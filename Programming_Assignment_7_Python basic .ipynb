{
 "cells": [
  {
   "cell_type": "code",
   "execution_count": 1,
   "id": "dd9adffc",
   "metadata": {},
   "outputs": [],
   "source": [
    "#1.\n",
    "\n",
    "def sum_arr(arr):\n",
    "    c = 0\n",
    "    for i in arr:\n",
    "        c= c+i\n",
    "    print(c)"
   ]
  },
  {
   "cell_type": "code",
   "execution_count": 13,
   "id": "ff10ab2e",
   "metadata": {},
   "outputs": [],
   "source": [
    "#2.\n",
    "\n",
    "def largest_element_arr(arr):\n",
    "    max = arr[0]\n",
    "    for i in arr: \n",
    "        if i > max:\n",
    "            max = i\n",
    "    else:\n",
    "        pass\n",
    "    print(max)"
   ]
  },
  {
   "cell_type": "code",
   "execution_count": 19,
   "id": "2a091e35",
   "metadata": {},
   "outputs": [],
   "source": [
    "#3.\n",
    "def rotate_arr(arr,d):\n",
    "    for i in range(len(arr)):\n",
    "        arr = arr[d:len(arr)]+arr[0:d]\n",
    "        return arr\n"
   ]
  },
  {
   "cell_type": "code",
   "execution_count": 20,
   "id": "386d2876",
   "metadata": {},
   "outputs": [],
   "source": [
    "#4.\n",
    "\n",
    "def split_arr(arr,d):\n",
    "    for i in range(len(arr)):\n",
    "        arr = arr[d:len(arr)]+arr[0:d]\n",
    "        return arr"
   ]
  },
  {
   "cell_type": "code",
   "execution_count": 16,
   "id": "ca88b41b",
   "metadata": {},
   "outputs": [],
   "source": [
    "#5.\n",
    "\n",
    "def is_monotonic(arr):\n",
    "    return (all(arr[i] <= arr[i + 1] for i in range(len(arr) - 1)) or\n",
    "            all(arr[i] >= arr[i + 1] for i in range(len(arr) - 1)))"
   ]
  },
  {
   "cell_type": "code",
   "execution_count": null,
   "id": "a3cdee74",
   "metadata": {},
   "outputs": [],
   "source": []
  }
 ],
 "metadata": {
  "kernelspec": {
   "display_name": "Python 3 (ipykernel)",
   "language": "python",
   "name": "python3"
  },
  "language_info": {
   "codemirror_mode": {
    "name": "ipython",
    "version": 3
   },
   "file_extension": ".py",
   "mimetype": "text/x-python",
   "name": "python",
   "nbconvert_exporter": "python",
   "pygments_lexer": "ipython3",
   "version": "3.9.7"
  }
 },
 "nbformat": 4,
 "nbformat_minor": 5
}
